{
 "cells": [
  {
   "cell_type": "markdown",
   "id": "b2003359",
   "metadata": {},
   "source": [
    "# Array\n",
    "Un array es una estructura de datos de un mismo tipo organizada en forma de tabla o cuadrícula de distintas dimensiones.\n",
    "\n",
    "- **Axis**: Cada una de las dimensiones del array\n",
    "- **Lenght**: El numero de valores que contiene una dimensión del array\n",
    "- **Index**: La posición que ocupa un valor dentro del array\n",
    "- **Value**: El valor que contiene el array en un index concreto\n",
    "- **Rank**: Cuantas dimensiones con tiene el array\n",
    "- **Size**: El numero de elementos que contiene el array\n",
    "- **Shape**: El listado de axis con su longitud\n"
   ]
  },
  {
   "cell_type": "code",
   "execution_count": 1,
   "id": "694c0378",
   "metadata": {},
   "outputs": [],
   "source": [
    "import numpy as np #importamos la libreria"
   ]
  },
  {
   "cell_type": "code",
   "execution_count": 2,
   "id": "d2de0af0",
   "metadata": {},
   "outputs": [
    {
     "data": {
      "text/plain": [
       "array([[5.50410115e-310, 0.00000000e+000, 6.24314969e-310,\n",
       "        6.24314971e-310, 6.24314969e-310, 6.24314969e-310,\n",
       "        6.24314738e-310, 6.24314814e-310],\n",
       "       [6.24314749e-310, 6.24314972e-310, 6.24314971e-310,\n",
       "        6.24314749e-310, 6.24314737e-310, 6.24314737e-310,\n",
       "        6.24314737e-310, 6.24314738e-310],\n",
       "       [6.24314737e-310, 6.24314737e-310, 6.24314738e-310,\n",
       "        6.24314970e-310, 6.24314738e-310, 6.24314737e-310,\n",
       "        6.24314737e-310, 6.24314854e-310],\n",
       "       [6.24314738e-310, 6.24314738e-310, 6.24314738e-310,\n",
       "        6.24314968e-310, 6.24314972e-310, 6.24314737e-310,\n",
       "        6.24314968e-310, 6.24314737e-310]])"
      ]
     },
     "execution_count": 2,
     "metadata": {},
     "output_type": "execute_result"
    }
   ],
   "source": [
    "#Generar un array vacio con una dimensión de 4 x 8 con valores random de memoria\n",
    "np.empty((4,8))"
   ]
  },
  {
   "cell_type": "code",
   "execution_count": 3,
   "id": "f529f439",
   "metadata": {},
   "outputs": [
    {
     "data": {
      "text/plain": [
       "array([[0., 0., 0., 0., 0., 0., 0., 0.],\n",
       "       [0., 0., 0., 0., 0., 0., 0., 0.],\n",
       "       [0., 0., 0., 0., 0., 0., 0., 0.],\n",
       "       [0., 0., 0., 0., 0., 0., 0., 0.]])"
      ]
     },
     "execution_count": 3,
     "metadata": {},
     "output_type": "execute_result"
    }
   ],
   "source": [
    "#Si queremos generar un array con valores 0\n",
    "np.zeros((4, 8))"
   ]
  },
  {
   "cell_type": "code",
   "execution_count": 4,
   "id": "dad35bf1",
   "metadata": {},
   "outputs": [
    {
     "data": {
      "text/plain": [
       "array([[1., 1., 1., 1., 1., 1., 1., 1.],\n",
       "       [1., 1., 1., 1., 1., 1., 1., 1.],\n",
       "       [1., 1., 1., 1., 1., 1., 1., 1.],\n",
       "       [1., 1., 1., 1., 1., 1., 1., 1.]])"
      ]
     },
     "execution_count": 4,
     "metadata": {},
     "output_type": "execute_result"
    }
   ],
   "source": [
    "#Si queremos generar con valores 1\n",
    "np.ones((4, 8))"
   ]
  },
  {
   "cell_type": "code",
   "execution_count": 5,
   "id": "1d596b2e",
   "metadata": {},
   "outputs": [
    {
     "data": {
      "text/plain": [
       "array([[7, 7, 7, 7, 7, 7, 7, 7],\n",
       "       [7, 7, 7, 7, 7, 7, 7, 7],\n",
       "       [7, 7, 7, 7, 7, 7, 7, 7],\n",
       "       [7, 7, 7, 7, 7, 7, 7, 7]])"
      ]
     },
     "execution_count": 5,
     "metadata": {},
     "output_type": "execute_result"
    }
   ],
   "source": [
    "#con valores perzonalizados. (7)\n",
    "np.full((4, 8), 7)"
   ]
  },
  {
   "cell_type": "code",
   "execution_count": 16,
   "id": "de40d860",
   "metadata": {},
   "outputs": [
    {
     "data": {
      "text/plain": [
       "array([ 0,  1,  2,  3,  4,  5,  6,  7,  8,  9, 10, 11, 12, 13, 14, 15, 16,\n",
       "       17, 18, 19])"
      ]
     },
     "execution_count": 16,
     "metadata": {},
     "output_type": "execute_result"
    }
   ],
   "source": [
    "#arange\n",
    "np.arange(20)"
   ]
  },
  {
   "cell_type": "code",
   "execution_count": 17,
   "id": "04432cc5",
   "metadata": {},
   "outputs": [
    {
     "data": {
      "text/plain": [
       "array([10, 12, 14, 16, 18])"
      ]
     },
     "execution_count": 17,
     "metadata": {},
     "output_type": "execute_result"
    }
   ],
   "source": [
    "#arange personalizado\n",
    "np.arange(10,20,2)"
   ]
  },
  {
   "cell_type": "code",
   "execution_count": 20,
   "id": "5e5af3e4",
   "metadata": {},
   "outputs": [
    {
     "data": {
      "text/plain": [
       "array([10., 20.])"
      ]
     },
     "execution_count": 20,
     "metadata": {},
     "output_type": "execute_result"
    }
   ],
   "source": [
    "#linspace, numero de elementos dentro del rango\n",
    "np.linspace(10,20,2)"
   ]
  },
  {
   "cell_type": "code",
   "execution_count": 6,
   "id": "6404affd",
   "metadata": {},
   "outputs": [
    {
     "data": {
      "text/plain": [
       "array([4, 8, 1, 9, 2, 5, 9, 5, 0, 9, 0, 6, 9, 9, 2, 2, 1, 0, 9, 1, 3, 5,\n",
       "       5, 1, 3, 1, 9, 2, 6, 3, 4, 0])"
      ]
     },
     "execution_count": 6,
     "metadata": {},
     "output_type": "execute_result"
    }
   ],
   "source": [
    "#Para valores aleatorios con numeros enteros en una dimensión (min, max, size)\n",
    "np.random.randint(0, 10, 32)"
   ]
  },
  {
   "cell_type": "code",
   "execution_count": 7,
   "id": "cf4ac147",
   "metadata": {},
   "outputs": [
    {
     "data": {
      "text/plain": [
       "array([[6, 9, 6, 8, 1, 5, 8, 0],\n",
       "       [7, 4, 3, 5, 8, 0, 9, 5],\n",
       "       [5, 3, 1, 5, 2, 1, 8, 0],\n",
       "       [4, 4, 7, 5, 0, 4, 0, 9]])"
      ]
     },
     "execution_count": 7,
     "metadata": {},
     "output_type": "execute_result"
    }
   ],
   "source": [
    "# refermular el array anterior con reshape a un matrix de 4x8\n",
    "np.reshape(np.random.randint(0, 10, 32), (4, 8))"
   ]
  },
  {
   "cell_type": "code",
   "execution_count": 8,
   "id": "d2b22197",
   "metadata": {},
   "outputs": [
    {
     "data": {
      "text/plain": [
       "array([ 4,  3,  5,  6, 23,  3,  4,  6,  7,  2,  3,  4,  6])"
      ]
     },
     "execution_count": 8,
     "metadata": {},
     "output_type": "execute_result"
    }
   ],
   "source": [
    "#Pasar una lista de python a array de numpy\n",
    "mi_lista = [4,3,5,6,23,3,4,6,7,2,3,4,6]\n",
    "np.array(mi_lista)"
   ]
  },
  {
   "cell_type": "code",
   "execution_count": 9,
   "id": "07c922d3",
   "metadata": {},
   "outputs": [],
   "source": [
    "#Pasar varias lista de python\n",
    "lista1 = [0, 5, 1, 9, 8, 2, 7, 6]\n",
    "lista2 = [3, 2, 7, 9, 6, 8, 6, 9]\n",
    "lista3 = [4, 8, 0, 4, 7, 8, 1, 1]\n",
    "lista4 = [5, 6, 5, 1, 8, 7, 4, 3]\n",
    "mi_array = np.array([lista1, lista2, lista3, lista4])"
   ]
  },
  {
   "cell_type": "code",
   "execution_count": 14,
   "id": "7007d0a8",
   "metadata": {},
   "outputs": [
    {
     "name": "stdout",
     "output_type": "stream",
     "text": [
      "32\n",
      "2\n",
      "(4, 8)\n",
      "int64\n"
     ]
    }
   ],
   "source": [
    "#cual es el tamaño del arreglo\n",
    "print(mi_array.size)\n",
    "#cual es la dimension del arreglo\n",
    "print(mi_array.ndim)\n",
    "#cual es la forma del arreglo (filas, columnas)\n",
    "print(mi_array.shape)\n",
    "#tipo de datos en el arreglo\n",
    "print(mi_array.dtype)"
   ]
  },
  {
   "cell_type": "code",
   "execution_count": 21,
   "id": "ab574a8c",
   "metadata": {},
   "outputs": [
    {
     "name": "stdout",
     "output_type": "stream",
     "text": [
      "Suma: [ 3  7  8 18 14 10 13 15]\n",
      "Resta: [-3  3 -6  0  2 -6  1 -3]\n",
      "Mult: [ 0 10  7 81 48 16 42 54]\n",
      "Divi: [0.         2.5        0.14285714 1.         1.33333333 0.25\n",
      " 1.16666667 0.66666667]\n"
     ]
    }
   ],
   "source": [
    "#Operaciones arimeticas\n",
    "array1 = np.array(lista1)\n",
    "array2 = np.array(lista2)\n",
    "#suma\n",
    "print(f'Suma: {array1 + array2}')\n",
    "print(f'Resta: {array1 - array2}')\n",
    "print(f'Mult: {array1 * array2}')\n",
    "print(f'Divi: {array1 / array2}')"
   ]
  },
  {
   "cell_type": "code",
   "execution_count": 12,
   "id": "ac871f4b",
   "metadata": {},
   "outputs": [
    {
     "name": "stdout",
     "output_type": "stream",
     "text": [
      "Promedio array1 = 4.75\n",
      "Suma array1 = 38\n"
     ]
    }
   ],
   "source": [
    "#Funciones de numpy\n",
    "print(f'Promedio array1 = {array1.mean()}')\n",
    "print(f'Suma array1 = {array1.sum()}')"
   ]
  },
  {
   "cell_type": "code",
   "execution_count": 23,
   "id": "0013d130",
   "metadata": {},
   "outputs": [
    {
     "name": "stdout",
     "output_type": "stream",
     "text": [
      "[0 5 1 9 8 2 7 6 3 2 7 9 6 8 6 9]\n",
      "[0 1 2 2 3 5 6 6 6 7 7 8 8 9 9 9]\n"
     ]
    }
   ],
   "source": [
    "#concatenar arreglos\n",
    "cont = np.concatenate((array1, array2))\n",
    "print(cont)\n",
    "#ordenarlos\n",
    "print(np.sort(cont))"
   ]
  },
  {
   "cell_type": "code",
   "execution_count": null,
   "id": "aa327235",
   "metadata": {},
   "outputs": [],
   "source": []
  }
 ],
 "metadata": {
  "kernelspec": {
   "display_name": "Python 3 (ipykernel)",
   "language": "python",
   "name": "python3"
  },
  "language_info": {
   "codemirror_mode": {
    "name": "ipython",
    "version": 3
   },
   "file_extension": ".py",
   "mimetype": "text/x-python",
   "name": "python",
   "nbconvert_exporter": "python",
   "pygments_lexer": "ipython3",
   "version": "3.10.12"
  }
 },
 "nbformat": 4,
 "nbformat_minor": 5
}
