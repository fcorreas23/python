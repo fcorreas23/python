{
 "cells": [
  {
   "cell_type": "markdown",
   "id": "9a11c0f8",
   "metadata": {},
   "source": [
    "H0 = Todo los tratamientos son iguales\n",
    "H1 = Hay diferencia en los tratamientos"
   ]
  },
  {
   "cell_type": "code",
   "execution_count": 1,
   "id": "0f719fd7-f96d-4b2a-95cf-c7ac946ad8b0",
   "metadata": {},
   "outputs": [],
   "source": [
    "import pandas as pd\n",
    "import numpy as np\n",
    "import random\n",
    "import seaborn as sns\n",
    "import researchpy as rp\n",
    "import scipy.stats as stats\n",
    "import statsmodels.api as sm\n",
    "from statsmodels.formula.api import ols\n",
    "from statsmodels.stats.multicomp import pairwise_tukeyhsd\n",
    "from statsmodels.stats.multicomp import MultiComparison"
   ]
  },
  {
   "cell_type": "code",
   "execution_count": 18,
   "id": "d44a9d6c-8e73-4e73-87b2-ae35052ce627",
   "metadata": {},
   "outputs": [],
   "source": [
    "df1 = pd.read_csv(\"ensayo-productos-1.tsv\", delimiter=\"\\t\")\n",
    "df2 = pd.read_csv(\"ensayo-productos-2.tsv\", delimiter=\"\\t\")"
   ]
  },
  {
   "cell_type": "code",
   "execution_count": 19,
   "id": "79248271",
   "metadata": {},
   "outputs": [
    {
     "data": {
      "text/html": [
       "<div>\n",
       "<style scoped>\n",
       "    .dataframe tbody tr th:only-of-type {\n",
       "        vertical-align: middle;\n",
       "    }\n",
       "\n",
       "    .dataframe tbody tr th {\n",
       "        vertical-align: top;\n",
       "    }\n",
       "\n",
       "    .dataframe thead th {\n",
       "        text-align: right;\n",
       "    }\n",
       "</style>\n",
       "<table border=\"1\" class=\"dataframe\">\n",
       "  <thead>\n",
       "    <tr style=\"text-align: right;\">\n",
       "      <th></th>\n",
       "      <th>TRATAMIENTOS</th>\n",
       "      <th>COLOR</th>\n",
       "      <th>PESO</th>\n",
       "      <th>CALIBRE</th>\n",
       "    </tr>\n",
       "  </thead>\n",
       "  <tbody>\n",
       "    <tr>\n",
       "      <th>0</th>\n",
       "      <td>TIME+FOLOKIN- 25DDPF</td>\n",
       "      <td>Oscura</td>\n",
       "      <td>10.8</td>\n",
       "      <td>2J</td>\n",
       "    </tr>\n",
       "    <tr>\n",
       "      <th>1</th>\n",
       "      <td>TIME+FOLOKIN- 25DDPF</td>\n",
       "      <td>Oscura</td>\n",
       "      <td>9.6</td>\n",
       "      <td>J</td>\n",
       "    </tr>\n",
       "    <tr>\n",
       "      <th>2</th>\n",
       "      <td>TIME+FOLOKIN- 25DDPF</td>\n",
       "      <td>Oscura</td>\n",
       "      <td>9.0</td>\n",
       "      <td>XL</td>\n",
       "    </tr>\n",
       "    <tr>\n",
       "      <th>3</th>\n",
       "      <td>TIME+FOLOKIN- 25DDPF</td>\n",
       "      <td>Oscura</td>\n",
       "      <td>9.1</td>\n",
       "      <td>XL</td>\n",
       "    </tr>\n",
       "    <tr>\n",
       "      <th>4</th>\n",
       "      <td>TIME+FOLOKIN- 25DDPF</td>\n",
       "      <td>Oscura</td>\n",
       "      <td>8.3</td>\n",
       "      <td>XL</td>\n",
       "    </tr>\n",
       "    <tr>\n",
       "      <th>5</th>\n",
       "      <td>TIME+FOLOKIN- 25DDPF</td>\n",
       "      <td>Oscura</td>\n",
       "      <td>9.3</td>\n",
       "      <td>J</td>\n",
       "    </tr>\n",
       "    <tr>\n",
       "      <th>6</th>\n",
       "      <td>TIME+FOLOKIN- 25DDPF</td>\n",
       "      <td>Oscura</td>\n",
       "      <td>9.6</td>\n",
       "      <td>J</td>\n",
       "    </tr>\n",
       "    <tr>\n",
       "      <th>7</th>\n",
       "      <td>TIME+FOLOKIN- 25DDPF</td>\n",
       "      <td>Oscura</td>\n",
       "      <td>9.1</td>\n",
       "      <td>XL</td>\n",
       "    </tr>\n",
       "    <tr>\n",
       "      <th>8</th>\n",
       "      <td>TIME+FOLOKIN- 25DDPF</td>\n",
       "      <td>Oscura</td>\n",
       "      <td>10.1</td>\n",
       "      <td>J</td>\n",
       "    </tr>\n",
       "    <tr>\n",
       "      <th>9</th>\n",
       "      <td>TIME+FOLOKIN- 25DDPF</td>\n",
       "      <td>Oscura</td>\n",
       "      <td>10.0</td>\n",
       "      <td>J</td>\n",
       "    </tr>\n",
       "  </tbody>\n",
       "</table>\n",
       "</div>"
      ],
      "text/plain": [
       "           TRATAMIENTOS  COLOR   PESO CALIBRE\n",
       "0  TIME+FOLOKIN- 25DDPF  Oscura  10.8      2J\n",
       "1  TIME+FOLOKIN- 25DDPF  Oscura   9.6       J\n",
       "2  TIME+FOLOKIN- 25DDPF  Oscura   9.0      XL\n",
       "3  TIME+FOLOKIN- 25DDPF  Oscura   9.1      XL\n",
       "4  TIME+FOLOKIN- 25DDPF  Oscura   8.3      XL\n",
       "5  TIME+FOLOKIN- 25DDPF  Oscura   9.3       J\n",
       "6  TIME+FOLOKIN- 25DDPF  Oscura   9.6       J\n",
       "7  TIME+FOLOKIN- 25DDPF  Oscura   9.1      XL\n",
       "8  TIME+FOLOKIN- 25DDPF  Oscura  10.1       J\n",
       "9  TIME+FOLOKIN- 25DDPF  Oscura  10.0       J"
      ]
     },
     "execution_count": 19,
     "metadata": {},
     "output_type": "execute_result"
    }
   ],
   "source": [
    "df2.head(10)"
   ]
  },
  {
   "cell_type": "code",
   "execution_count": 10,
   "id": "984eb2cf",
   "metadata": {},
   "outputs": [],
   "source": [
    "#Fynciones para normalizar datos\n",
    "\n",
    "def getCalibre(x):\n",
    "    if x == 'L':\n",
    "        return round(random.uniform(22,24), 1)\n",
    "    if x == 'XL':\n",
    "        return round(random.uniform(24,26), 1)\n",
    "    if x == 'J':\n",
    "        return round(random.uniform(26,28), 1)\n",
    "    if x == '2J':\n",
    "        return round(random.uniform(28,30), 1)\n",
    "    if x == '3J':\n",
    "        return round(random.uniform(30,32), 1)\n",
    "    if x == '4J':\n",
    "        return round(random.uniform(32,34), 1)\n",
    "\n",
    "def getColor(x):\n",
    "    if x == 'Blanca':\n",
    "        return 1\n",
    "    if x == 'Clara':\n",
    "        return 2\n",
    "    if x == 'Oscura':\n",
    "        return 3"
   ]
  },
  {
   "cell_type": "code",
   "execution_count": 20,
   "id": "b527b06a",
   "metadata": {},
   "outputs": [],
   "source": [
    "df2['CALIBRE'] = df2.CALIBRE.apply(func=getCalibre)\n",
    "#df1['COLOR'] = df1.COLOR.apply(func=getColor)\n",
    "tratamientos = df1.groupby('TRATAMIENTO')\n",
    "T0 = tratamientos.get_group('T0')\n",
    "T3L = tratamientos.get_group('T3L')\n",
    "T6L = tratamientos.get_group('T6L')\n",
    "T9L = tratamientos.get_group('T9L')\n",
    "T12L = tratamientos.get_group('T12L')"
   ]
  },
  {
   "cell_type": "code",
   "execution_count": 21,
   "id": "f6bbc961",
   "metadata": {},
   "outputs": [
    {
     "name": "stdout",
     "output_type": "stream",
     "text": [
      "Los datos no presentan un distribucion normal 0.009136201813817024\n"
     ]
    }
   ],
   "source": [
    "#Revisar si valores distribuyen normal\n",
    "data = df2['CALIBRE'].to_numpy()\n",
    "alpha = 0.05\n",
    "w, p = stats.shapiro(data)\n",
    "\n",
    "if p > alpha:\n",
    "    print(f\"Los datos presentan un distribucion normal {p}\")\n",
    "else:\n",
    "    print(f\"Los datos no presentan un distribucion normal {p}\")"
   ]
  },
  {
   "cell_type": "code",
   "execution_count": 8,
   "id": "5b8e25ad",
   "metadata": {},
   "outputs": [
    {
     "data": {
      "text/plain": [
       "<Axes: xlabel='COLOR', ylabel='PESO'>"
      ]
     },
     "execution_count": 8,
     "metadata": {},
     "output_type": "execute_result"
    },
    {
     "data": {
      "image/png": "[encoded data removed]",
      "text/plain": [
       "<Figure size 720x576 with 1 Axes>"
      ]
     },
     "metadata": {},
     "output_type": "display_data"
    }
   ],
   "source": [
    "sns.set_style(\"darkgrid\")\n",
    "sns.set(rc={'figure.figsize':(10, 8)})\n",
    "sns.boxplot(data=df, x=\"COLOR\", y=\"PESO\")"
   ]
  },
  {
   "cell_type": "code",
   "execution_count": 50,
   "metadata": {},
   "outputs": [
    {
     "data": {
      "text/plain": [
       "<Axes: xlabel='TRATAMIENTO', ylabel='PESO'>"
      ]
     },
     "execution_count": 50,
     "metadata": {},
     "output_type": "execute_result"
    },
    {
     "data": {
      "image/png": "[encoded data removed]",
      "text/plain": [
       "<Figure size 720x576 with 1 Axes>"
      ]
     },
     "metadata": {},
     "output_type": "display_data"
    }
   ],
   "source": [
    "sns.boxplot(data=df, x=\"TRATAMIENTO\", y=\"PESO\", hue='COLOR')"
   ]
  },
  {
   "cell_type": "code",
   "execution_count": 37,
   "id": "86e6b4c5",
   "metadata": {},
   "outputs": [
    {
     "data": {
      "text/plain": [
       "array(['T0', 'T3L', 'T6L', 'T9L', 'T12L'], dtype=object)"
      ]
     },
     "execution_count": 37,
     "metadata": {},
     "output_type": "execute_result"
    }
   ],
   "source": [
    "\"\"\" tratamientos = df.groupby('TRATAMIENTOS') \"\"\"\n",
    "df.TRATAMIENTO.unique()"
   ]
  },
  {
   "cell_type": "code",
   "execution_count": 38,
   "id": "57270b4c",
   "metadata": {},
   "outputs": [
    {
     "data": {
      "text/plain": [
       "<seaborn.axisgrid.FacetGrid at 0x7d5e46a96da0>"
      ]
     },
     "execution_count": 38,
     "metadata": {},
     "output_type": "execute_result"
    },
    {
     "data": {
      "image/png": "[encoded data removed]",
      "text/plain": [
       "<Figure size 438.35x360 with 1 Axes>"
      ]
     },
     "metadata": {},
     "output_type": "display_data"
    }
   ],
   "source": [
    "sns.displot(data=df, x=\"PESO\", hue=\"COLOR\", kde=True)"
   ]
  },
  {
   "cell_type": "code",
   "execution_count": 58,
   "id": "a4fdfdc7",
   "metadata": {},
   "outputs": [
    {
     "data": {
      "text/html": [
       "<div>\n",
       "<style scoped>\n",
       "    .dataframe tbody tr th:only-of-type {\n",
       "        vertical-align: middle;\n",
       "    }\n",
       "\n",
       "    .dataframe tbody tr th {\n",
       "        vertical-align: top;\n",
       "    }\n",
       "\n",
       "    .dataframe thead th {\n",
       "        text-align: right;\n",
       "    }\n",
       "</style>\n",
       "<table border=\"1\" class=\"dataframe\">\n",
       "  <thead>\n",
       "    <tr style=\"text-align: right;\">\n",
       "      <th></th>\n",
       "      <th>sum_sq</th>\n",
       "      <th>df</th>\n",
       "      <th>F</th>\n",
       "      <th>PR(&gt;F)</th>\n",
       "    </tr>\n",
       "  </thead>\n",
       "  <tbody>\n",
       "    <tr>\n",
       "      <th>TRATAMIENTO</th>\n",
       "      <td>234.425714</td>\n",
       "      <td>4.0</td>\n",
       "      <td>33.529878</td>\n",
       "      <td>9.213323e-25</td>\n",
       "    </tr>\n",
       "    <tr>\n",
       "      <th>COLOR</th>\n",
       "      <td>347.756654</td>\n",
       "      <td>1.0</td>\n",
       "      <td>198.958346</td>\n",
       "      <td>3.308087e-38</td>\n",
       "    </tr>\n",
       "    <tr>\n",
       "      <th>Residual</th>\n",
       "      <td>863.456046</td>\n",
       "      <td>494.0</td>\n",
       "      <td>NaN</td>\n",
       "      <td>NaN</td>\n",
       "    </tr>\n",
       "  </tbody>\n",
       "</table>\n",
       "</div>"
      ],
      "text/plain": [
       "                 sum_sq     df           F        PR(>F)\n",
       "TRATAMIENTO  234.425714    4.0   33.529878  9.213323e-25\n",
       "COLOR        347.756654    1.0  198.958346  3.308087e-38\n",
       "Residual     863.456046  494.0         NaN           NaN"
      ]
     },
     "execution_count": 58,
     "metadata": {},
     "output_type": "execute_result"
    }
   ],
   "source": [
    "mod = ols('PESO ~ TRATAMIENTO + COLOR ', data=df).fit()\n",
    "aov_table = sm.stats.anova_lm(mod, typ=2)\n",
    "aov_table"
   ]
  },
  {
   "cell_type": "code",
   "execution_count": 56,
   "id": "63c48b3e",
   "metadata": {},
   "outputs": [
    {
     "data": {
      "text/html": [
       "<table class=\"simpletable\">\n",
       "<caption>Multiple Comparison of Means - Tukey HSD, FWER=0.05</caption>\n",
       "<tr>\n",
       "  <th>group1</th> <th>group2</th> <th>meandiff</th>  <th>p-adj</th>  <th>lower</th>   <th>upper</th> <th>reject</th>\n",
       "</tr>\n",
       "<tr>\n",
       "    <td>T0</td>    <td>T12L</td>    <td>0.13</td>   <td>0.1745</td> <td>-0.0304</td> <td>0.2904</td>  <td>False</td>\n",
       "</tr>\n",
       "<tr>\n",
       "    <td>T0</td>     <td>T3L</td>    <td>-0.02</td>  <td>0.9971</td> <td>-0.1804</td> <td>0.1404</td>  <td>False</td>\n",
       "</tr>\n",
       "<tr>\n",
       "    <td>T0</td>     <td>T6L</td>    <td>0.05</td>   <td>0.9136</td> <td>-0.1104</td> <td>0.2104</td>  <td>False</td>\n",
       "</tr>\n",
       "<tr>\n",
       "    <td>T0</td>     <td>T9L</td>    <td>0.08</td>   <td>0.6502</td> <td>-0.0804</td> <td>0.2404</td>  <td>False</td>\n",
       "</tr>\n",
       "<tr>\n",
       "   <td>T12L</td>    <td>T3L</td>    <td>-0.15</td>  <td>0.0796</td> <td>-0.3104</td> <td>0.0104</td>  <td>False</td>\n",
       "</tr>\n",
       "<tr>\n",
       "   <td>T12L</td>    <td>T6L</td>    <td>-0.08</td>  <td>0.6502</td> <td>-0.2404</td> <td>0.0804</td>  <td>False</td>\n",
       "</tr>\n",
       "<tr>\n",
       "   <td>T12L</td>    <td>T9L</td>    <td>-0.05</td>  <td>0.9136</td> <td>-0.2104</td> <td>0.1104</td>  <td>False</td>\n",
       "</tr>\n",
       "<tr>\n",
       "    <td>T3L</td>    <td>T6L</td>    <td>0.07</td>   <td>0.7545</td> <td>-0.0904</td> <td>0.2304</td>  <td>False</td>\n",
       "</tr>\n",
       "<tr>\n",
       "    <td>T3L</td>    <td>T9L</td>     <td>0.1</td>   <td>0.4308</td> <td>-0.0604</td> <td>0.2604</td>  <td>False</td>\n",
       "</tr>\n",
       "<tr>\n",
       "    <td>T6L</td>    <td>T9L</td>    <td>0.03</td>   <td>0.9862</td> <td>-0.1304</td> <td>0.1904</td>  <td>False</td>\n",
       "</tr>\n",
       "</table>"
      ],
      "text/latex": [
       "\\begin{center}\n",
       "\\begin{tabular}{ccccccc}\n",
       "\\toprule\n",
       "\\textbf{group1} & \\textbf{group2} & \\textbf{meandiff} & \\textbf{p-adj} & \\textbf{lower} & \\textbf{upper} & \\textbf{reject}  \\\\\n",
       "\\midrule\n",
       "       T0       &       T12L      &        0.13       &     0.1745     &    -0.0304     &     0.2904     &      False       \\\\\n",
       "       T0       &       T3L       &       -0.02       &     0.9971     &    -0.1804     &     0.1404     &      False       \\\\\n",
       "       T0       &       T6L       &        0.05       &     0.9136     &    -0.1104     &     0.2104     &      False       \\\\\n",
       "       T0       &       T9L       &        0.08       &     0.6502     &    -0.0804     &     0.2404     &      False       \\\\\n",
       "      T12L      &       T3L       &       -0.15       &     0.0796     &    -0.3104     &     0.0104     &      False       \\\\\n",
       "      T12L      &       T6L       &       -0.08       &     0.6502     &    -0.2404     &     0.0804     &      False       \\\\\n",
       "      T12L      &       T9L       &       -0.05       &     0.9136     &    -0.2104     &     0.1104     &      False       \\\\\n",
       "      T3L       &       T6L       &        0.07       &     0.7545     &    -0.0904     &     0.2304     &      False       \\\\\n",
       "      T3L       &       T9L       &        0.1        &     0.4308     &    -0.0604     &     0.2604     &      False       \\\\\n",
       "      T6L       &       T9L       &        0.03       &     0.9862     &    -0.1304     &     0.1904     &      False       \\\\\n",
       "\\bottomrule\n",
       "\\end{tabular}\n",
       "%\\caption{Multiple Comparison of Means - Tukey HSD, FWER=0.05}\n",
       "\\end{center}"
      ],
      "text/plain": [
       "<class 'statsmodels.iolib.table.SimpleTable'>"
      ]
     },
     "execution_count": 56,
     "metadata": {},
     "output_type": "execute_result"
    }
   ],
   "source": [
    "mc = MultiComparison( df['COLOR'], df['TRATAMIENTO'])\n",
    "result = mc.tukeyhsd(0.05)\n",
    "result.summary()"
   ]
  },
  {
   "cell_type": "code",
   "execution_count": 57,
   "id": "a15a90e7",
   "metadata": {},
   "outputs": [
    {
     "name": "stdout",
     "output_type": "stream",
     "text": [
      "\n",
      "\n"
     ]
    },
    {
     "data": {
      "text/html": [
       "<div>\n",
       "<style scoped>\n",
       "    .dataframe tbody tr th:only-of-type {\n",
       "        vertical-align: middle;\n",
       "    }\n",
       "\n",
       "    .dataframe tbody tr th {\n",
       "        vertical-align: top;\n",
       "    }\n",
       "\n",
       "    .dataframe thead th {\n",
       "        text-align: right;\n",
       "    }\n",
       "</style>\n",
       "<table border=\"1\" class=\"dataframe\">\n",
       "  <thead>\n",
       "    <tr style=\"text-align: right;\">\n",
       "      <th></th>\n",
       "      <th>N</th>\n",
       "      <th>Mean</th>\n",
       "      <th>SD</th>\n",
       "      <th>SE</th>\n",
       "      <th>95% Conf.</th>\n",
       "      <th>Interval</th>\n",
       "    </tr>\n",
       "    <tr>\n",
       "      <th>TRATAMIENTO</th>\n",
       "      <th></th>\n",
       "      <th></th>\n",
       "      <th></th>\n",
       "      <th></th>\n",
       "      <th></th>\n",
       "      <th></th>\n",
       "    </tr>\n",
       "  </thead>\n",
       "  <tbody>\n",
       "    <tr>\n",
       "      <th>T0</th>\n",
       "      <td>100</td>\n",
       "      <td>2.80</td>\n",
       "      <td>0.4714</td>\n",
       "      <td>0.0471</td>\n",
       "      <td>2.7065</td>\n",
       "      <td>2.8935</td>\n",
       "    </tr>\n",
       "    <tr>\n",
       "      <th>T12L</th>\n",
       "      <td>100</td>\n",
       "      <td>2.93</td>\n",
       "      <td>0.2564</td>\n",
       "      <td>0.0256</td>\n",
       "      <td>2.8791</td>\n",
       "      <td>2.9809</td>\n",
       "    </tr>\n",
       "    <tr>\n",
       "      <th>T3L</th>\n",
       "      <td>100</td>\n",
       "      <td>2.78</td>\n",
       "      <td>0.4837</td>\n",
       "      <td>0.0484</td>\n",
       "      <td>2.6840</td>\n",
       "      <td>2.8760</td>\n",
       "    </tr>\n",
       "    <tr>\n",
       "      <th>T6L</th>\n",
       "      <td>100</td>\n",
       "      <td>2.85</td>\n",
       "      <td>0.4352</td>\n",
       "      <td>0.0435</td>\n",
       "      <td>2.7636</td>\n",
       "      <td>2.9364</td>\n",
       "    </tr>\n",
       "    <tr>\n",
       "      <th>T9L</th>\n",
       "      <td>100</td>\n",
       "      <td>2.88</td>\n",
       "      <td>0.3835</td>\n",
       "      <td>0.0383</td>\n",
       "      <td>2.8039</td>\n",
       "      <td>2.9561</td>\n",
       "    </tr>\n",
       "  </tbody>\n",
       "</table>\n",
       "</div>"
      ],
      "text/plain": [
       "               N  Mean      SD      SE  95% Conf.  Interval\n",
       "TRATAMIENTO                                                \n",
       "T0           100  2.80  0.4714  0.0471     2.7065    2.8935\n",
       "T12L         100  2.93  0.2564  0.0256     2.8791    2.9809\n",
       "T3L          100  2.78  0.4837  0.0484     2.6840    2.8760\n",
       "T6L          100  2.85  0.4352  0.0435     2.7636    2.9364\n",
       "T9L          100  2.88  0.3835  0.0383     2.8039    2.9561"
      ]
     },
     "execution_count": 57,
     "metadata": {},
     "output_type": "execute_result"
    }
   ],
   "source": [
    "rp.summary_cont(df['COLOR'].groupby(df['TRATAMIENTO']))"
   ]
  },
  {
   "cell_type": "code",
   "execution_count": 42,
   "id": "242c3281",
   "metadata": {},
   "outputs": [
    {
     "data": {
      "text/plain": [
       "F_onewayResult(statistic=30.379816030660848, pvalue=1.2591476581296452e-22)"
      ]
     },
     "execution_count": 42,
     "metadata": {},
     "output_type": "execute_result"
    }
   ],
   "source": [
    "stats.f_oneway(df['PESO'][df['TRATAMIENTO'] == 'T0'],\n",
    "               df['PESO'][df['TRATAMIENTO'] == 'T3L'],\n",
    "               df['PESO'][df['TRATAMIENTO'] == 'T6L'],\n",
    "               df['PESO'][df['TRATAMIENTO'] == 'T9L'],\n",
    "               df['PESO'][df['TRATAMIENTO'] == 'T12L'],\n",
    "               )"
   ]
  },
  {
   "cell_type": "code",
   "execution_count": 43,
   "id": "83660676",
   "metadata": {},
   "outputs": [],
   "source": [
    "result = stats.tukey_hsd(df['PESO'][df['TRATAMIENTO'] == 'T0'],\n",
    "               df['PESO'][df['TRATAMIENTO'] == 'T3L'],\n",
    "               df['PESO'][df['TRATAMIENTO'] == 'T6L'],\n",
    "               df['PESO'][df['TRATAMIENTO'] == 'T9L'],\n",
    "               df['PESO'][df['TRATAMIENTO'] == 'T12L'],)"
   ]
  },
  {
   "cell_type": "code",
   "execution_count": 44,
   "id": "9625cc88",
   "metadata": {},
   "outputs": [
    {
     "name": "stdout",
     "output_type": "stream",
     "text": [
      "Tukey's HSD Pairwise Group Comparisons (95.0% Confidence Interval)\n",
      "Comparison  Statistic  p-value  Lower CI  Upper CI\n",
      " (0 - 1)     -0.163     0.948    -0.769     0.443\n",
      " (0 - 2)     -0.158     0.953    -0.764     0.448\n",
      " (0 - 3)     -0.228     0.841    -0.834     0.378\n",
      " (0 - 4)     -2.056     0.000    -2.662    -1.450\n",
      " (1 - 0)      0.163     0.948    -0.443     0.769\n",
      " (1 - 2)      0.005     1.000    -0.601     0.611\n",
      " (1 - 3)     -0.065     0.998    -0.671     0.541\n",
      " (1 - 4)     -1.893     0.000    -2.499    -1.287\n",
      " (2 - 0)      0.158     0.953    -0.448     0.764\n",
      " (2 - 1)     -0.005     1.000    -0.611     0.601\n",
      " (2 - 3)     -0.070     0.998    -0.676     0.536\n",
      " (2 - 4)     -1.898     0.000    -2.504    -1.292\n",
      " (3 - 0)      0.228     0.841    -0.378     0.834\n",
      " (3 - 1)      0.065     0.998    -0.541     0.671\n",
      " (3 - 2)      0.070     0.998    -0.536     0.676\n",
      " (3 - 4)     -1.828     0.000    -2.434    -1.222\n",
      " (4 - 0)      2.056     0.000     1.450     2.662\n",
      " (4 - 1)      1.893     0.000     1.287     2.499\n",
      " (4 - 2)      1.898     0.000     1.292     2.504\n",
      " (4 - 3)      1.828     0.000     1.222     2.434\n",
      "\n"
     ]
    }
   ],
   "source": [
    "print(result)"
   ]
  },
  {
   "cell_type": "code",
   "execution_count": 45,
   "id": "a5853e77",
   "metadata": {},
   "outputs": [
    {
     "data": {
      "text/html": [
       "<div>\n",
       "<style scoped>\n",
       "    .dataframe tbody tr th:only-of-type {\n",
       "        vertical-align: middle;\n",
       "    }\n",
       "\n",
       "    .dataframe tbody tr th {\n",
       "        vertical-align: top;\n",
       "    }\n",
       "\n",
       "    .dataframe thead th {\n",
       "        text-align: right;\n",
       "    }\n",
       "</style>\n",
       "<table border=\"1\" class=\"dataframe\">\n",
       "  <thead>\n",
       "    <tr style=\"text-align: right;\">\n",
       "      <th></th>\n",
       "      <th>TRATAMIENTO</th>\n",
       "      <th>COLOR</th>\n",
       "      <th>PESO</th>\n",
       "      <th>CALIBRE</th>\n",
       "      <th>BRIX</th>\n",
       "    </tr>\n",
       "  </thead>\n",
       "  <tbody>\n",
       "    <tr>\n",
       "      <th>400</th>\n",
       "      <td>T12L</td>\n",
       "      <td>Clara</td>\n",
       "      <td>8.9</td>\n",
       "      <td>J</td>\n",
       "      <td>16</td>\n",
       "    </tr>\n",
       "    <tr>\n",
       "      <th>401</th>\n",
       "      <td>T12L</td>\n",
       "      <td>Clara</td>\n",
       "      <td>7.3</td>\n",
       "      <td>XL</td>\n",
       "      <td>15</td>\n",
       "    </tr>\n",
       "    <tr>\n",
       "      <th>402</th>\n",
       "      <td>T12L</td>\n",
       "      <td>Clara</td>\n",
       "      <td>8.3</td>\n",
       "      <td>J</td>\n",
       "      <td>18</td>\n",
       "    </tr>\n",
       "    <tr>\n",
       "      <th>403</th>\n",
       "      <td>T12L</td>\n",
       "      <td>Clara</td>\n",
       "      <td>8.9</td>\n",
       "      <td>J</td>\n",
       "      <td>15</td>\n",
       "    </tr>\n",
       "    <tr>\n",
       "      <th>404</th>\n",
       "      <td>T12L</td>\n",
       "      <td>Clara</td>\n",
       "      <td>10.0</td>\n",
       "      <td>2J</td>\n",
       "      <td>16</td>\n",
       "    </tr>\n",
       "    <tr>\n",
       "      <th>...</th>\n",
       "      <td>...</td>\n",
       "      <td>...</td>\n",
       "      <td>...</td>\n",
       "      <td>...</td>\n",
       "      <td>...</td>\n",
       "    </tr>\n",
       "    <tr>\n",
       "      <th>495</th>\n",
       "      <td>T12L</td>\n",
       "      <td>Oscura</td>\n",
       "      <td>12.5</td>\n",
       "      <td>3J</td>\n",
       "      <td>18</td>\n",
       "    </tr>\n",
       "    <tr>\n",
       "      <th>496</th>\n",
       "      <td>T12L</td>\n",
       "      <td>Oscura</td>\n",
       "      <td>12.9</td>\n",
       "      <td>3J</td>\n",
       "      <td>18</td>\n",
       "    </tr>\n",
       "    <tr>\n",
       "      <th>497</th>\n",
       "      <td>T12L</td>\n",
       "      <td>Oscura</td>\n",
       "      <td>9.1</td>\n",
       "      <td>J</td>\n",
       "      <td>22</td>\n",
       "    </tr>\n",
       "    <tr>\n",
       "      <th>498</th>\n",
       "      <td>T12L</td>\n",
       "      <td>Oscura</td>\n",
       "      <td>10.8</td>\n",
       "      <td>2J</td>\n",
       "      <td>21</td>\n",
       "    </tr>\n",
       "    <tr>\n",
       "      <th>499</th>\n",
       "      <td>T12L</td>\n",
       "      <td>Oscura</td>\n",
       "      <td>12.5</td>\n",
       "      <td>3J</td>\n",
       "      <td>20</td>\n",
       "    </tr>\n",
       "  </tbody>\n",
       "</table>\n",
       "<p>100 rows × 5 columns</p>\n",
       "</div>"
      ],
      "text/plain": [
       "    TRATAMIENTO   COLOR  PESO CALIBRE  BRIX\n",
       "400        T12L   Clara   8.9       J    16\n",
       "401        T12L   Clara   7.3      XL    15\n",
       "402        T12L   Clara   8.3       J    18\n",
       "403        T12L   Clara   8.9       J    15\n",
       "404        T12L   Clara  10.0      2J    16\n",
       "..          ...     ...   ...     ...   ...\n",
       "495        T12L  Oscura  12.5      3J    18\n",
       "496        T12L  Oscura  12.9      3J    18\n",
       "497        T12L  Oscura   9.1       J    22\n",
       "498        T12L  Oscura  10.8      2J    21\n",
       "499        T12L  Oscura  12.5      3J    20\n",
       "\n",
       "[100 rows x 5 columns]"
      ]
     },
     "execution_count": 45,
     "metadata": {},
     "output_type": "execute_result"
    }
   ],
   "source": [
    "T12L"
   ]
  },
  {
   "cell_type": "code",
   "execution_count": 46,
   "id": "5fad4615",
   "metadata": {},
   "outputs": [
    {
     "data": {
      "text/plain": [
       "<seaborn.axisgrid.FacetGrid at 0x7d5e46746f50>"
      ]
     },
     "execution_count": 46,
     "metadata": {},
     "output_type": "execute_result"
    },
    {
     "data": {
      "image/png": "[encoded data removed]",
      "text/plain": [
       "<Figure size 438.35x360 with 1 Axes>"
      ]
     },
     "metadata": {},
     "output_type": "display_data"
    }
   ],
   "source": [
    "sns.displot(data=T12L, x=\"PESO\", hue=\"COLOR\", kde=True)"
   ]
  },
  {
   "cell_type": "code",
   "execution_count": 47,
   "id": "9c224caf",
   "metadata": {},
   "outputs": [
    {
     "data": {
      "text/plain": [
       "<seaborn.axisgrid.FacetGrid at 0x7d5e4668fee0>"
      ]
     },
     "execution_count": 47,
     "metadata": {},
     "output_type": "execute_result"
    },
    {
     "data": {
      "image/png": "[encoded data removed]",
      "text/plain": [
       "<Figure size 1800x360 with 5 Axes>"
      ]
     },
     "metadata": {},
     "output_type": "display_data"
    }
   ],
   "source": [
    "sns.catplot(df, kind=\"bar\", x='COLOR', y=\"PESO\", col=\"TRATAMIENTO\")"
   ]
  },
  {
   "cell_type": "code",
   "execution_count": 49,
   "id": "0d2cde54",
   "metadata": {},
   "outputs": [
    {
     "data": {
      "text/plain": [
       "<Axes: xlabel='TRATAMIENTO', ylabel='BRIX'>"
      ]
     },
     "execution_count": 49,
     "metadata": {},
     "output_type": "execute_result"
    },
    {
     "data": {
      "image/png": "[encoded data removed]",
      "text/plain": [
       "<Figure size 720x576 with 1 Axes>"
      ]
     },
     "metadata": {},
     "output_type": "display_data"
    }
   ],
   "source": [
    "sns.barplot(data=df, x='TRATAMIENTO', y='BRIX', hue='COLOR', capsize=.2)"
   ]
  },
  {
   "cell_type": "code",
   "execution_count": null,
   "id": "88af342a",
   "metadata": {},
   "outputs": [],
   "source": []
  }
 ],
 "metadata": {
  "kernelspec": {
   "display_name": "Python 3 (ipykernel)",
   "language": "python",
   "name": "python3"
  },
  "language_info": {
   "codemirror_mode": {
    "name": "ipython",
    "version": 3
   },
   "file_extension": ".py",
   "mimetype": "text/x-python",
   "name": "python",
   "nbconvert_exporter": "python",
   "pygments_lexer": "ipython3",
   "version": "3.10.12"
  }
 },
 "nbformat": 4,
 "nbformat_minor": 5
}
