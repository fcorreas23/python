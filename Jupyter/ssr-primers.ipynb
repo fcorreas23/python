{
 "cells": [
  {
   "cell_type": "code",
   "execution_count": 1,
   "metadata": {},
   "outputs": [],
   "source": [
    "import pandas as pd\n",
    "import seaborn as sns\n",
    "import re"
   ]
  },
  {
   "cell_type": "code",
   "execution_count": 2,
   "metadata": {},
   "outputs": [],
   "source": [
    "#Variables\n",
    "SSRMMD = '/opt/biotools/SSRMMD-master/SSRMMD.pl'\n",
    "PRIMER3 = '/opt/biotools/SSRMMD-master/connectorToPrimer3/connectorToPrimer3.pl'\n",
    "THREADS = '8'\n",
    "REPEATS = ['DI', 'TRI', 'TETRA', 'PENTA', 'SIX']\n",
    "GROUP = [2, 3, 4, 5, 6]\n"
   ]
  },
  {
   "cell_type": "code",
   "execution_count": 4,
   "metadata": {},
   "outputs": [],
   "source": [
    "#BUSCAR MICROSATELITES\n",
    "GENOMA = 'REGINA.fasta'\n",
    "OUTPUT = 'ALL'\n",
    "\n",
    "cmd = f'{SSRMMD} -f1 REFERENCIAS/{GENOMA} -p 0 -o SSR/{OUTPUT} -t {THREADS} -mo 2=7,3=4,4=4,5=4,6=4 -ss 1'\n",
    "#!perl {cmd}\n"
   ]
  },
  {
   "cell_type": "code",
   "execution_count": 6,
   "metadata": {},
   "outputs": [],
   "source": [
    "df_ssr = pd.read_csv(f'SSR/{OUTPUT}/{GENOMA}.SSRs', delimiter=\"\\t\")"
   ]
  },
  {
   "cell_type": "code",
   "execution_count": 7,
   "metadata": {},
   "outputs": [
    {
     "data": {
      "image/png": "[encoded data removed]",
      "text/plain": [
       "<Figure size 432x288 with 1 Axes>"
      ]
     },
     "metadata": {
      "needs_background": "light"
     },
     "output_type": "display_data"
    }
   ],
   "source": [
    "countplot = sns.countplot(data=df_ssr, x='motif_length')\n",
    "countplot.bar_label(countplot.containers[0], fontsize=10);"
   ]
  },
  {
   "cell_type": "code",
   "execution_count": 8,
   "metadata": {},
   "outputs": [],
   "source": [
    "motif = df_ssr.groupby('motif_length')\n",
    "for key, group in motif:\n",
    "    group.to_csv(f'SSR/Motif{key}.tsv', sep=\"\\t\", index=False)"
   ]
  },
  {
   "cell_type": "code",
   "execution_count": 10,
   "metadata": {},
   "outputs": [
    {
     "data": {
      "text/plain": [
       "motif\n",
       "AT    6969\n",
       "TA    5371\n",
       "CT    4848\n",
       "GA    4783\n",
       "AG    4734\n",
       "TC    4609\n",
       "TG     738\n",
       "CA     640\n",
       "AC     595\n",
       "GT     432\n",
       "GC       5\n",
       "CG       1\n",
       "Name: count, dtype: int64"
      ]
     },
     "execution_count": 10,
     "metadata": {},
     "output_type": "execute_result"
    }
   ],
   "source": [
    "motif.get_group(2)['motif'].value_counts()"
   ]
  },
  {
   "cell_type": "code",
   "execution_count": 34,
   "metadata": {},
   "outputs": [],
   "source": [
    "#PRIMERS\n",
    "SIZE_RANGE = '100-300'\n",
    "GC = '45,60'\n",
    "TM = '57,60,63'\n",
    "!perl {PRIMER3} -i SSR/{OUTPUT}/{GENOMA}.SSRs -o PRIMERS/{OUTPUT}_PRIMERS.tsv -us {SIZE_RANGE} -gc {GC} -tm {TM}"
   ]
  },
  {
   "cell_type": "code",
   "execution_count": 69,
   "metadata": {},
   "outputs": [],
   "source": [
    "#PRIMERS POR GRUPO\n",
    "for x in GROUP:\n",
    "    !perl {PRIMER3} -i SSR/Motif{x}.tsv -o PRIMERS/Motif{x}_PRIMERS.tsv -us {SIZE_RANGE} -gc {GC} -tm {TM}\n",
    "    "
   ]
  },
  {
   "cell_type": "code",
   "execution_count": 72,
   "metadata": {},
   "outputs": [],
   "source": [
    "NAME='Motif6'\n",
    "\n",
    "df_primers = pd.read_csv(f'PRIMERS/{NAME}_PRIMERS.tsv', delimiter=\"\\t\")\n",
    "duplicatePrimers = df_primers[df_primers.duplicated(['forward_primer','reverse_primer'])]\n",
    "duplicatePrimers.to_csv(f'PRIMERS/{NAME}_PRIMERS_DUPLICADOS.tsv', sep=\"\\t\", index=False)\n",
    "filterPrimers = df_primers.drop_duplicates(subset=['forward_primer','reverse_primer'])\n",
    "filterPrimers.to_csv(f'PRIMERS/{NAME}_PRIMERS_FILTER.tsv', sep=\"\\t\", index=False)\n",
    "#primer_filtrado = df_primers[df_primers.drop_duplicates(subset=['forward_primer','reverse_primer'],keep=False)]\n",
    "#primer_filtrado.info()\n",
    "#df_primers_filter = df_primers[['id','forward_primer','reverse_primer']]\n",
    "#df_primers_filter"
   ]
  },
  {
   "cell_type": "code",
   "execution_count": 80,
   "metadata": {},
   "outputs": [
    {
     "name": "stderr",
     "output_type": "stream",
     "text": [
      "/tmp/ipykernel_6572/3038388921.py:2: SettingWithCopyWarning: \n",
      "A value is trying to be set on a copy of a slice from a DataFrame.\n",
      "Try using .loc[row_indexer,col_indexer] = value instead\n",
      "\n",
      "See the caveats in the documentation: https://pandas.pydata.org/pandas-docs/stable/user_guide/indexing.html#returning-a-view-versus-a-copy\n",
      "  ipcress_primers['Min']='100'\n",
      "/tmp/ipykernel_6572/3038388921.py:3: SettingWithCopyWarning: \n",
      "A value is trying to be set on a copy of a slice from a DataFrame.\n",
      "Try using .loc[row_indexer,col_indexer] = value instead\n",
      "\n",
      "See the caveats in the documentation: https://pandas.pydata.org/pandas-docs/stable/user_guide/indexing.html#returning-a-view-versus-a-copy\n",
      "  ipcress_primers['Max']='500'\n"
     ]
    }
   ],
   "source": [
    "ipcress_primers = filterPrimers[['id','forward_primer','reverse_primer']]\n",
    "ipcress_primers['Min']='100'\n",
    "ipcress_primers['Max']='500'\n",
    "ipcress_primers.to_csv(f'PRIMERS/IPCRESS/{NAME}_ipcress.tsv', sep=\"\\t\", index=False)"
   ]
  },
  {
   "cell_type": "code",
   "execution_count": 4,
   "metadata": {},
   "outputs": [
    {
     "name": "stdout",
     "output_type": "stream",
     "text": [
      "** \u001b[1;32mMessage\u001b[0m: \u001b[34m02:35:05.422\u001b[0m: Loaded [949] experiments\n"
     ]
    }
   ],
   "source": [
    "!ipcress ./PRIMERS/IPCRESS/Motif6_ipcress.tsv ./REFERENCIAS/REGINA.fasta > ./IPCRESS/primer_sets.ipcress.out"
   ]
  },
  {
   "cell_type": "code",
   "execution_count": 8,
   "metadata": {},
   "outputs": [],
   "source": [
    "ipcress_header=['sequence_id', 'primer_id','product_length','primer_5','pos_5', 'mismatch_5', 'primer_3', 'pos_3', 'mismatch_3', 'description']\n",
    "result = []\n",
    "amplicon = [line for line in open('./IPCRESS/primer_sets.ipcress.out') if re.match(r'^ipcress:', line)]\n",
    "aux = [x.split() for x in amplicon]\n",
    "for item in aux:\n",
    "    result.append([item[1].split(\":\")[0], item[2], item[3], item[4], item[5], item[6], item[7], item[8], item[9], item[10]])\n",
    "\n",
    "ePCR_hits=pd.DataFrame(result, columns=ipcress_header)\n"
   ]
  },
  {
   "cell_type": "code",
   "execution_count": 21,
   "metadata": {},
   "outputs": [
    {
     "data": {
      "text/plain": [
       "41"
      ]
     },
     "execution_count": 21,
     "metadata": {},
     "output_type": "execute_result"
    }
   ],
   "source": [
    "ePCR = ePCR_hits.drop(ePCR_hits[(ePCR_hits['description'] == 'single_A') |(ePCR_hits['description'] == 'single_B')].index)\n",
    "#ePCR.to_csv('amplicones2.tsv', sep=\"\\t\", index=False)\n",
    "\n",
    "countPrimers = dict(ePCR['primer_id'].value_counts())\n",
    "\n",
    "filtro_amplificacion = { key:value for (key, value) in countPrimers.items()  if value >= 3 and value <= 8 }\n",
    "primers_selecionados = list(filtro_amplificacion.keys())\n"
   ]
  }
 ],
 "metadata": {
  "kernelspec": {
   "display_name": "Python 3",
   "language": "python",
   "name": "python3"
  },
  "language_info": {
   "codemirror_mode": {
    "name": "ipython",
    "version": 3
   },
   "file_extension": ".py",
   "mimetype": "text/x-python",
   "name": "python",
   "nbconvert_exporter": "python",
   "pygments_lexer": "ipython3",
   "version": "3.10.12"
  }
 },
 "nbformat": 4,
 "nbformat_minor": 2
}
